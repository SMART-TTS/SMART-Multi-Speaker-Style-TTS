{
 "cells": [
  {
   "cell_type": "code",
   "execution_count": 1,
   "metadata": {},
   "outputs": [
    {
     "name": "stdout",
     "output_type": "stream",
     "text": [
      "using cached model\n",
      "using cached model\n",
      "using cached model\n",
      "Load Model\n"
     ]
    }
   ],
   "source": [
    "from sentence_transformers import SentenceTransformer, util\n",
    "import numpy as np\n",
    "\n",
    "model_path = './output/training_sts'\n",
    "\n",
    "embedder = SentenceTransformer(model_path)"
   ]
  },
  {
   "cell_type": "code",
   "execution_count": 14,
   "metadata": {
    "scrolled": false
   },
   "outputs": [
    {
     "name": "stdout",
     "output_type": "stream",
     "text": [
      "!!! [[4955, 1423, 5330, 1962, 4707, 5782, 517, 54], [4955, 1423, 5330, 3609, 7088, 2010, 5760, 5782, 517, 54], [1185, 3318, 5330, 3121, 6116, 1732, 6383, 5782, 517, 54], [4955, 3318, 5330, 2186, 7096, 6973, 6133, 7088, 3332, 7276, 7831, 517, 54], [4955, 1423, 5330, 517, 6463, 4955, 4162, 5336, 7088, 2010, 5760, 5782, 517, 54], [3533, 6649, 7096, 4955, 1913, 5330, 1788, 6043, 7088, 3332, 7276, 7831, 517, 54], [1773, 1423, 5330, 2872, 6050, 6116, 517, 6651, 517, 0, 7078, 2181, 6888, 517, 54], [4617, 7581, 4955, 1913, 5330, 2010, 7096, 1783, 6903, 1601, 5439, 3862, 517, 54], [4955, 1423, 5330, 1607, 7078, 3076, 7119, 1841, 6903, 2298, 6141, 6116, 4700, 3862, 517, 54]]\n",
      "!!! [[4955, 1423, 5330, 4799, 6684, 6116, 2010, 5760, 5782, 517, 54]]\n",
      "\n",
      "\n",
      "======================\n",
      "\n",
      "\n",
      "Query: 한 남자가 파스타를 먹는다.\n",
      "\n",
      "Top 5 most similar sentences in corpus:\n",
      "한 남자가 음식을 먹는다. (Score: 0.6800)\n",
      "한 남자가 빵 한 조각을 먹는다. (Score: 0.6734)\n",
      "한 남자가 말을 탄다. (Score: 0.1256)\n",
      "두 남자가 수레를 숲 솦으로 밀었다. (Score: 0.1076)\n",
      "한 남자가 담으로 싸인 땅에서 백마를 타고 있다. (Score: 0.0967)\n",
      "!!! [[993, 6135, 6003, 3630, 7088, 3843, 1530, 5330, 1788, 6043, 7088, 3332, 7276, 7788, 3862, 517, 54]]\n",
      "\n",
      "\n",
      "======================\n",
      "\n",
      "\n",
      "Query: 고릴라 의상을 입은 누군가가 드럼을 연주하고 있다.\n",
      "\n",
      "Top 5 most similar sentences in corpus:\n",
      "원숭이 한 마리가 드럼을 연주한다. (Score: 0.6832)\n",
      "한 여자가 바이올린을 연주한다. (Score: 0.2885)\n",
      "치타 한 마리가 먹이 뒤에서 달리고 있다. (Score: 0.2277)\n",
      "그 여자가 아이를 돌본다. (Score: 0.2018)\n",
      "한 남자가 말을 탄다. (Score: 0.1396)\n",
      "!!! [[4617, 7581, 5330, 1801, 7688, 7088, 748, 4379, 6037, 2010, 7096, 6116, 517, 7378, 5760, 5782, 517, 54]]\n",
      "\n",
      "\n",
      "======================\n",
      "\n",
      "\n",
      "Query: 치타가 들판을 가로 질러 먹이를 쫓는다.\n",
      "\n",
      "Top 5 most similar sentences in corpus:\n",
      "치타 한 마리가 먹이 뒤에서 달리고 있다. (Score: 0.8140)\n",
      "두 남자가 수레를 숲 솦으로 밀었다. (Score: 0.3707)\n",
      "원숭이 한 마리가 드럼을 연주한다. (Score: 0.1841)\n",
      "한 남자가 말을 탄다. (Score: 0.1716)\n",
      "한 남자가 담으로 싸인 땅에서 백마를 타고 있다. (Score: 0.1520)\n"
     ]
    }
   ],
   "source": [
    "# Corpus with example sentences\n",
    "corpus = ['한 남자가 음식을 먹는다.',\n",
    "          '한 남자가 빵 한 조각을 먹는다.',\n",
    "          '그 여자가 아이를 돌본다.',\n",
    "          '한 남자가 말을 탄다.',\n",
    "          '한 여자가 바이올린을 연주한다.',\n",
    "          '두 남자가 수레를 숲 솦으로 밀었다.',\n",
    "          '한 남자가 담으로 싸인 땅에서 백마를 타고 있다.',\n",
    "          '원숭이 한 마리가 드럼을 연주한다.',\n",
    "          '치타 한 마리가 먹이 뒤에서 달리고 있다.']\n",
    "\n",
    "corpus_embeddings = embedder.encode(corpus, convert_to_tensor=True)\n",
    "\n",
    "# Query sentences:\n",
    "queries = ['한 남자가 파스타를 먹는다.',\n",
    "           '고릴라 의상을 입은 누군가가 드럼을 연주하고 있다.',\n",
    "           '치타가 들판을 가로 질러 먹이를 쫓는다.']\n",
    "\n",
    "# Find the closest 5 sentences of the corpus for each query sentence based on cosine similarity\n",
    "top_k = 5\n",
    "for query in queries:\n",
    "    query_embedding = embedder.encode(query, convert_to_tensor=True)\n",
    "    cos_scores = util.pytorch_cos_sim(query_embedding, corpus_embeddings)[0]\n",
    "    cos_scores = cos_scores.cpu()\n",
    "\n",
    "    #We use np.argpartition, to only partially sort the top_k results\n",
    "    top_results = np.argpartition(-cos_scores, range(top_k))[0:top_k]\n",
    "\n",
    "    print(\"\\n\\n======================\\n\\n\")\n",
    "    print(\"Query:\", query)\n",
    "    print(\"\\nTop 5 most similar sentences in corpus:\")\n",
    "\n",
    "    for idx in top_results[0:top_k]:\n",
    "        print(corpus[idx].strip(), \"(Score: %.4f)\" % (cos_scores[idx]))\n"
   ]
  },
  {
   "cell_type": "code",
   "execution_count": 13,
   "metadata": {},
   "outputs": [
    {
     "name": "stdout",
     "output_type": "stream",
     "text": [
      "!!! [[4955, 1423, 5330, 4799, 6684, 6116, 2010, 5760, 5782, 517, 54]]\n",
      "\n",
      "\n",
      "======================\n",
      "\n",
      "\n",
      "Query: 한 남자가 파스타를 먹는다.\n",
      "\n",
      "Top 5 most similar sentences in corpus:\n",
      "한 남자가 음식을 먹는다. (Score: 0.6800)\n",
      "한 남자가 빵 한 조각을 먹는다. (Score: 0.6734)\n",
      "한 남자가 말을 탄다. (Score: 0.1256)\n",
      "한 남자가 담으로 싸인 땅에서 백마를 타고 있다. (Score: 0.0967)\n",
      "두 남자가 수레를 숲 속으로 밀었다. (Score: 0.0773)\n",
      "!!! [[993, 6135, 6003, 3630, 7088, 3843, 1530, 5330, 1788, 6043, 7088, 3332, 7276, 7788, 3862, 517, 54]]\n",
      "\n",
      "\n",
      "======================\n",
      "\n",
      "\n",
      "Query: 고릴라 의상을 입은 누군가가 드럼을 연주하고 있다.\n",
      "\n",
      "Top 5 most similar sentences in corpus:\n",
      "원숭이 한 마리가 드럼을 연주한다. (Score: 0.6832)\n",
      "한 여자가 바이올린을 연주한다. (Score: 0.2885)\n",
      "치타 한 마리가 먹이 뒤에서 달리고 있다. (Score: 0.2277)\n",
      "그 여자가 아이를 돌본다. (Score: 0.2018)\n",
      "두 남자가 수레를 숲 속으로 밀었다. (Score: 0.1524)\n",
      "!!! [[4617, 7581, 5330, 1801, 7688, 7088, 748, 4379, 6037, 2010, 7096, 6116, 517, 7378, 5760, 5782, 517, 54]]\n",
      "\n",
      "\n",
      "======================\n",
      "\n",
      "\n",
      "Query: 치타가 들판을 가로 질러 먹이를 쫓는다.\n",
      "\n",
      "Top 5 most similar sentences in corpus:\n",
      "치타 한 마리가 먹이 뒤에서 달리고 있다. (Score: 0.8140)\n",
      "두 남자가 수레를 숲 속으로 밀었다. (Score: 0.3693)\n",
      "원숭이 한 마리가 드럼을 연주한다. (Score: 0.1841)\n",
      "한 남자가 말을 탄다. (Score: 0.1716)\n",
      "한 남자가 담으로 싸인 땅에서 백마를 타고 있다. (Score: 0.1520)\n"
     ]
    }
   ],
   "source": [
    "# Query sentences:\n",
    "queries = ['한 남자가 파스타를 먹는다.',\n",
    "           '고릴라 의상을 입은 누군가가 드럼을 연주하고 있다.',\n",
    "           '치타가 들판을 가로 질러 먹이를 쫓는다.']\n",
    "\n",
    "\n",
    "# Find the closest 5 sentences of the corpus for each query sentence based on cosine similarity\n",
    "top_k = 5\n",
    "for query in queries:\n",
    "    query_embedding = embedder.encode(query, convert_to_tensor=True)\n",
    "    cos_scores = util.pytorch_cos_sim(query_embedding, corpus_embeddings)[0]\n",
    "    cos_scores = cos_scores.cpu()\n",
    "\n",
    "    #We use np.argpartition, to only partially sort the top_k results\n",
    "    top_results = np.argpartition(-cos_scores, range(top_k))[0:top_k]\n",
    "\n",
    "    print(\"\\n\\n======================\\n\\n\")\n",
    "    print(\"Query:\", query)\n",
    "    print(\"\\nTop 5 most similar sentences in corpus:\")\n",
    "\n",
    "    for idx in top_results[0:top_k]:\n",
    "        print(corpus[idx].strip(), \"(Score: %.4f)\" % (cos_scores[idx]))\n"
   ]
  },
  {
   "cell_type": "code",
   "execution_count": 5,
   "metadata": {},
   "outputs": [
    {
     "name": "stdout",
     "output_type": "stream",
     "text": [
      "!!! [[1618, 5804, 7828], [2718, 6037, 7010], [517, 7095, 7226, 7828], [1562, 5558, 7828], [1023, 6616, 7828], [4402, 5345, 5400], [880, 7794], [517, 6756, 6756, 6166, 7086], [517, 6756, 6756, 6166, 5400], [1562, 7227, 7784], [4626, 7217, 7784], [2095, 6553, 7018, 7794], [517, 5397, 6896, 4379, 6133], [1773, 6060, 7010, 1814], [4626, 7217, 7828, 2073, 6079], [1562, 7227, 7828, 2073, 6079]]\n",
      "Cluster  1\n",
      "['쌀쌀맞은', '쌀쌀맞게']\n",
      "\n",
      "Cluster  2\n",
      "['친절하게', '친절한 목소리로', '다정한 목소리로']\n",
      "\n",
      "Cluster  3\n",
      "['무서워하는', '겁에 질린', '두려운 듯한', '걱정하는']\n",
      "\n",
      "Cluster  4\n",
      "['당당한', '의젓한', '공손한', '다정하게']\n",
      "\n",
      "Cluster  5\n",
      "['서러운', '다급한', '차갑게']\n",
      "\n"
     ]
    }
   ],
   "source": [
    "# Corpus with example sentences\n",
    "corpus = ['무서워하는',\n",
    "          '겁에 질린',\n",
    "          '두려운 듯한',\n",
    "          '당당한',\n",
    "          '서러운',\n",
    "          '의젓한',\n",
    "          '다급한',\n",
    "          '걱정하는',\n",
    "          '공손한',\n",
    "          '쌀쌀맞은',\n",
    "          '쌀쌀맞게',\n",
    "          '차갑게',\n",
    "          '다정하게',\n",
    "          '친절하게',\n",
    "          '친절한 목소리로',\n",
    "          '다정한 목소리로',\n",
    "            ]\n",
    "\n",
    "corpus_embeddings = embedder.encode(corpus)\n",
    "\n",
    "# Then, we perform k-means clustering using sklearn:\n",
    "from sklearn.cluster import KMeans\n",
    "\n",
    "num_clusters = 5\n",
    "clustering_model = KMeans(n_clusters=num_clusters)\n",
    "clustering_model.fit(corpus_embeddings)\n",
    "cluster_assignment = clustering_model.labels_\n",
    "\n",
    "clustered_sentences = [[] for i in range(num_clusters)]\n",
    "for sentence_id, cluster_id in enumerate(cluster_assignment):\n",
    "    clustered_sentences[cluster_id].append(corpus[sentence_id])\n",
    "\n",
    "for i, cluster in enumerate(clustered_sentences):\n",
    "    print(\"Cluster \", i+1)\n",
    "    print(cluster)\n",
    "    print(\"\")"
   ]
  },
  {
   "cell_type": "code",
   "execution_count": 6,
   "metadata": {},
   "outputs": [
    {
     "name": "stdout",
     "output_type": "stream",
     "text": [
      "!!! [[1618, 5804, 7828], [2718, 6037, 7010], [517, 7095, 7226, 7828], [1562, 5558, 7828], [1023, 6616, 7828], [4402, 5345, 5400], [880, 7794], [517, 6756, 6756, 6166, 7086], [517, 6756, 6756, 6166, 5400], [1562, 7227, 7784], [4626, 7217, 7784], [2095, 6553, 7018, 7794], [517, 5397, 6896, 4379, 6133], [1773, 6060, 7010, 1814], [4626, 7217, 7828, 2073, 6079], [1562, 7227, 7828, 2073, 6079]]\n",
      "Cluster  1\n",
      "['무서워하는', '겁에 질린', '두려운 듯한', '서러운', '다급한', '걱정하는']\n",
      "\n",
      "Cluster  2\n",
      "['친절하게', '친절한 목소리로', '다정한 목소리로']\n",
      "\n",
      "Cluster  3\n",
      "['당당한', '의젓한', '공손한', '다정하게']\n",
      "\n",
      "Cluster  4\n",
      "['쌀쌀맞은', '쌀쌀맞게']\n",
      "\n",
      "Cluster  5\n",
      "['차갑게']\n",
      "\n"
     ]
    }
   ],
   "source": [
    "# Corpus with example sentences\n",
    "corpus = ['무서워하는',\n",
    "          '겁에 질린',\n",
    "          '두려운 듯한',\n",
    "          '당당한',\n",
    "          '서러운',\n",
    "          '의젓한',\n",
    "          '다급한',\n",
    "          '걱정하는',\n",
    "          '공손한',\n",
    "          '쌀쌀맞은',\n",
    "          '쌀쌀맞게',\n",
    "          '차갑게',\n",
    "          '다정하게',\n",
    "          '친절하게',\n",
    "          '친절한 목소리로',\n",
    "          '다정한 목소리로',\n",
    "            ]\n",
    "\n",
    "corpus_embeddings = embedder.encode(corpus)\n",
    "\n",
    "# Then, we perform k-means clustering using sklearn:\n",
    "from sklearn.cluster import KMeans\n",
    "\n",
    "num_clusters = 5\n",
    "clustering_model = KMeans(n_clusters=num_clusters)\n",
    "clustering_model.fit(corpus_embeddings)\n",
    "cluster_assignment = clustering_model.labels_\n",
    "\n",
    "clustered_sentences = [[] for i in range(num_clusters)]\n",
    "for sentence_id, cluster_id in enumerate(cluster_assignment):\n",
    "    clustered_sentences[cluster_id].append(corpus[sentence_id])\n",
    "\n",
    "for i, cluster in enumerate(clustered_sentences):\n",
    "    print(\"Cluster \", i+1)\n",
    "    print(cluster)\n",
    "    print(\"\")"
   ]
  },
  {
   "cell_type": "code",
   "execution_count": null,
   "metadata": {},
   "outputs": [],
   "source": []
  },
  {
   "cell_type": "code",
   "execution_count": 9,
   "metadata": {},
   "outputs": [
    {
     "ename": "IndentationError",
     "evalue": "expected an indented block (<ipython-input-9-674d50a31f09>, line 33)",
     "output_type": "error",
     "traceback": [
      "\u001b[0;36m  File \u001b[0;32m\"<ipython-input-9-674d50a31f09>\"\u001b[0;36m, line \u001b[0;32m33\u001b[0m\n\u001b[0;31m    print(corpus[idx].strip(), \"(Score: %.4f)\" % (cos_scores[idx]))\u001b[0m\n\u001b[0m                                                                   ^\u001b[0m\n\u001b[0;31mIndentationError\u001b[0m\u001b[0;31m:\u001b[0m expected an indented block\n"
     ]
    }
   ],
   "source": [
    "        # Corpus with example sentences\n",
    "corpus = ['한 남자가 음식을 먹는다.',\n",
    "           '한 남자가 빵 한 조각을 먹는다.',\n",
    "           '그 여자가 아이를 돌본다.',\n",
    "           '한 남자가 말을 탄다.',\n",
    "           '한 여자가 바이올린을 연주한다.',\n",
    "           '두 남자가 수레를 숲 속으로 밀었다.',\n",
    "           '한 남자가 담으로 싸인 땅에서 백마를 타고 있다.',\n",
    "           '원숭이 한 마리가 드럼을 연주한다.',\n",
    "            '치타 한 마리가 먹이 뒤에서 달리고 있다.']\n",
    "corpus_embeddings = embedder.encode(corpus, convert_to_tensor=True)\n",
    "        \n",
    "# Query sentences:\n",
    "queries = ['차가운 목소리로',\n",
    "           '따뜻한 목소리로',\n",
    "           '분한 목소리로']\n",
    "\n",
    "# Find the closest 5 sentences of the corpus for each query sentence based on cosine similarity\n",
    "top_k = 5\n",
    "for query in queries:\n",
    "    query_embedding = embedder.encode(query, convert_to_tensor=True)\n",
    "    cos_scores = util.pytorch_cos_sim(query_embedding, corpus_embeddings)[0]\n",
    "    cos_scores = cos_scores.cpu()\n",
    "\n",
    "    #We use np.argpartition, to only partially sort the top_k results\n",
    "    top_results = np.argpartition(-cos_scores, range(top_k))[0:top_k]\n",
    "\n",
    "    print(\"\\n\\n======================\\n\\n\")\n",
    "    print(\"Query:\", query)\n",
    "    print(\"\\nTop 5 most similar sentences in corpus:\")\n",
    "\n",
    "    for idx in top_results[0:top_k]:\n",
    "        print(corpus[idx].strip(), \"(Score: %.4f)\" % (cos_scores[idx]))\n"
   ]
  },
  {
   "cell_type": "code",
   "execution_count": 15,
   "metadata": {},
   "outputs": [],
   "source": [
    "tags = ['안녕하세요','빈깁습니다','하이하이']"
   ]
  },
  {
   "cell_type": "code",
   "execution_count": 19,
   "metadata": {},
   "outputs": [
    {
     "ename": "SyntaxError",
     "evalue": "invalid syntax (<ipython-input-19-fb3051113317>, line 1)",
     "output_type": "error",
     "traceback": [
      "\u001b[0;36m  File \u001b[0;32m\"<ipython-input-19-fb3051113317>\"\u001b[0;36m, line \u001b[0;32m1\u001b[0m\n\u001b[0;31m    tag for tag in tags\u001b[0m\n\u001b[0m          ^\u001b[0m\n\u001b[0;31mSyntaxError\u001b[0m\u001b[0;31m:\u001b[0m invalid syntax\n"
     ]
    }
   ],
   "source": [
    "for tag in tags"
   ]
  },
  {
   "cell_type": "code",
   "execution_count": 20,
   "metadata": {},
   "outputs": [
    {
     "data": {
      "text/plain": [
       "['안녕하세요', '빈깁습니다', '하이하이']"
      ]
     },
     "execution_count": 20,
     "metadata": {},
     "output_type": "execute_result"
    }
   ],
   "source": [
    "[tag for tag in tags]"
   ]
  },
  {
   "cell_type": "code",
   "execution_count": null,
   "metadata": {},
   "outputs": [],
   "source": []
  }
 ],
 "metadata": {
  "kernelspec": {
   "display_name": "styletagging",
   "language": "python",
   "name": "styletagging"
  },
  "language_info": {
   "codemirror_mode": {
    "name": "ipython",
    "version": 3
   },
   "file_extension": ".py",
   "mimetype": "text/x-python",
   "name": "python",
   "nbconvert_exporter": "python",
   "pygments_lexer": "ipython3",
   "version": "3.7.3"
  }
 },
 "nbformat": 4,
 "nbformat_minor": 4
}
